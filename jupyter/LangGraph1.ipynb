{
 "cells": [
  {
   "cell_type": "code",
   "execution_count": null,
   "id": "de0645c8-1b6b-46c3-8545-0a87e534e2d8",
   "metadata": {},
   "outputs": [],
   "source": [
    "%env OPENAI_API_KEY=<your_openai_api_key>"
   ]
  },
  {
   "cell_type": "code",
   "execution_count": null,
   "id": "1f370e52-7b8e-40ad-8cc7-443f230b6df3",
   "metadata": {},
   "outputs": [],
   "source": [
    "from typing import TypedDict\n",
    "from langgraph.graph import StateGraph, START, END\n",
    "\n",
    "class State(TypedDict):\n",
    "    messages: str\n",
    "    model_name: str\n",
    "    response: str\n",
    "\n",
    "\n",
    "def node_1(state: dict):\n",
    "    completions = client.chat.completions.create(\n",
    "        model=state[\"model_name\"],\n",
    "        messages=state[\"messages\"]\n",
    "    )\n",
    "    return {\"response\": completions.choices[0].message}\n",
    "\n",
    "builder = StateGraph(State)\n",
    "builder.add_node(\"node_1\", node_1)\n",
    "builder.add_edge(START, \"node_1\")\n",
    "builder.add_edge(\"node_1\", END)\n",
    "\n",
    "graph = builder.compile()"
   ]
  },
  {
   "cell_type": "code",
   "execution_count": null,
   "id": "b83db94c-7311-443d-9b40-ecc9ed5472a6",
   "metadata": {},
   "outputs": [],
   "source": [
    "from IPython.display import Image, display\n",
    "display(Image(graph.get_graph().draw_mermaid_png()))"
   ]
  },
  {
   "cell_type": "code",
   "execution_count": null,
   "id": "aa56eb78-0b0f-49b8-9360-08b45b54cce6",
   "metadata": {},
   "outputs": [],
   "source": [
    "from openai import OpenAI\n",
    "import os\n",
    "\n",
    "print(os.getenv(\"OPENAI_API_KEY\"))\n",
    "      \n",
    "client = OpenAI(\n",
    "    api_key = os.getenv(\"OPENAI_API_KEY\")\n",
    ")\n",
    "\n",
    "    \n",
    "\n",
    "\n",
    "text = \"What's the longitude and latitude of Seattle\"\n",
    "state_dict = {}\n",
    "state_dict[\"messages\"] = [{\"role\": \"user\", \"content\": text}]\n",
    "state_dict[\"model_name\"] = \"gpt-4\"\n",
    "\n",
    "print(graph.invoke({\"messages\": state_dict[\"messages\"], \"model_name\": state_dict[\"model_name\"]}))"
   ]
  },
  {
   "cell_type": "code",
   "execution_count": null,
   "id": "5c3877e8-cf59-4eab-86a1-1906c3ab39ed",
   "metadata": {},
   "outputs": [],
   "source": []
  }
 ],
 "metadata": {
  "kernelspec": {
   "display_name": "Python 3 (ipykernel)",
   "language": "python",
   "name": "python3"
  },
  "language_info": {
   "codemirror_mode": {
    "name": "ipython",
    "version": 3
   },
   "file_extension": ".py",
   "mimetype": "text/x-python",
   "name": "python",
   "nbconvert_exporter": "python",
   "pygments_lexer": "ipython3",
   "version": "3.12.3"
  }
 },
 "nbformat": 4,
 "nbformat_minor": 5
}
